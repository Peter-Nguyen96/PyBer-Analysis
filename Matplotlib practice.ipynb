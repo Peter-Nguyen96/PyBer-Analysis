{
 "cells": [
  {
   "cell_type": "code",
   "execution_count": 1,
   "id": "6daa3932",
   "metadata": {},
   "outputs": [],
   "source": [
    "import pandas as pd\n",
    "import os\n",
    "import matplotlib.pyplot as plt\n",
    "import numpy as np\n",
    "\n",
    "%matplotlib inline\n"
   ]
  },
  {
   "cell_type": "code",
   "execution_count": 2,
   "id": "61c9c687",
   "metadata": {},
   "outputs": [],
   "source": [
    "#x-axis Data\n",
    "x_axis = [\"Jan\", \"Feb\", \"Mar\", \"Apr\", \"May\", \"Jun\", \"Jul\", \"Aug\", \"Sep\", \"Nov\", \"Dec\"]\n",
    "\n",
    "#y-axis Data\n",
    "y_axis = [10.02, 23.24, 39.20, 35.42, 32.34, 27.04, 10.56, 11.58, 27.90, 20.71, 20.09]\n",
    "\n",
    "\n",
    "# Check to make sure they are the same length (starts at zero)\n",
    "#len(y_axis)\n",
    "#len(x_axis)"
   ]
  },
  {
   "cell_type": "code",
   "execution_count": 9,
   "id": "bd007240",
   "metadata": {},
   "outputs": [
    {
     "data": {
      "image/png": "[encoded data removed]",
      "text/plain": [
       "<Figure size 432x288 with 1 Axes>"
      ]
     },
     "metadata": {
      "needs_background": "light"
     },
     "output_type": "display_data"
    }
   ],
   "source": [
    "# plot data\n",
    "#plt.plot(x_axis, y_axis)\n",
    "\n",
    "fig, ax = plt.subplots()\n",
    "ax.plot = (x_axis, y_axis)\n",
    "\n"
   ]
  },
  {
   "cell_type": "code",
   "execution_count": null,
   "id": "1aad2625",
   "metadata": {},
   "outputs": [],
   "source": []
  }
 ],
 "metadata": {
  "kernelspec": {
   "display_name": "PythonData",
   "language": "python",
   "name": "pythondata"
  },
  "language_info": {
   "codemirror_mode": {
    "name": "ipython",
    "version": 3
   },
   "file_extension": ".py",
   "mimetype": "text/x-python",
   "name": "python",
   "nbconvert_exporter": "python",
   "pygments_lexer": "ipython3",
   "version": "3.7.13"
  }
 },
 "nbformat": 4,
 "nbformat_minor": 5
}
