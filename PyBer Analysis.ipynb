{
 "cells": [
  {
   "cell_type": "code",
   "execution_count": 74,
   "id": "cfbf9887",
   "metadata": {},
   "outputs": [],
   "source": [
    "#declaring dependancies \n",
    "import os\n",
    "import pandas as pd\n",
    "import numpy as np\n",
    "import matplotlib.pyplot as plt\n",
    "import scipy.stats as sts\n",
    "\n",
    "%matplotlib inline"
   ]
  },
  {
   "cell_type": "code",
   "execution_count": 80,
   "id": "75d565b7",
   "metadata": {},
   "outputs": [
    {
     "data": {
      "text/html": [
       "<div>\n",
       "<style scoped>\n",
       "    .dataframe tbody tr th:only-of-type {\n",
       "        vertical-align: middle;\n",
       "    }\n",
       "\n",
       "    .dataframe tbody tr th {\n",
       "        vertical-align: top;\n",
       "    }\n",
       "\n",
       "    .dataframe thead th {\n",
       "        text-align: right;\n",
       "    }\n",
       "</style>\n",
       "<table border=\"1\" class=\"dataframe\">\n",
       "  <thead>\n",
       "    <tr style=\"text-align: right;\">\n",
       "      <th></th>\n",
       "      <th>city</th>\n",
       "      <th>driver_count</th>\n",
       "      <th>type</th>\n",
       "    </tr>\n",
       "  </thead>\n",
       "  <tbody>\n",
       "    <tr>\n",
       "      <th>0</th>\n",
       "      <td>Richardfort</td>\n",
       "      <td>38</td>\n",
       "      <td>Urban</td>\n",
       "    </tr>\n",
       "    <tr>\n",
       "      <th>1</th>\n",
       "      <td>Williamsstad</td>\n",
       "      <td>59</td>\n",
       "      <td>Urban</td>\n",
       "    </tr>\n",
       "    <tr>\n",
       "      <th>2</th>\n",
       "      <td>Port Angela</td>\n",
       "      <td>67</td>\n",
       "      <td>Urban</td>\n",
       "    </tr>\n",
       "    <tr>\n",
       "      <th>3</th>\n",
       "      <td>Rodneyfort</td>\n",
       "      <td>34</td>\n",
       "      <td>Urban</td>\n",
       "    </tr>\n",
       "    <tr>\n",
       "      <th>4</th>\n",
       "      <td>West Robert</td>\n",
       "      <td>39</td>\n",
       "      <td>Urban</td>\n",
       "    </tr>\n",
       "  </tbody>\n",
       "</table>\n",
       "</div>"
      ],
      "text/plain": [
       "           city  driver_count   type\n",
       "0   Richardfort            38  Urban\n",
       "1  Williamsstad            59  Urban\n",
       "2   Port Angela            67  Urban\n",
       "3    Rodneyfort            34  Urban\n",
       "4   West Robert            39  Urban"
      ]
     },
     "execution_count": 80,
     "metadata": {},
     "output_type": "execute_result"
    }
   ],
   "source": [
    "#load data from csv\n",
    "load_city_data = os.path.join(\"Resources\", \"city_data.csv\")\n",
    "load_ride_data = os.path.join(\"Resources\", \"ride_data.csv\")\n",
    "\n",
    "#read CSV\n",
    "city_data_df = pd.read_csv(load_city_data)\n",
    "ride_data_df = pd.read_csv(load_ride_data)\n",
    "\n",
    "city_data_df.head()\n",
    "#ride_data_df.head()\n",
    "\n",
    "#Data Inspection\n",
    "\n",
    "#city_data_df.count\n",
    "# 121 rows 3 columns (city, driver count, type (urban/rural))\n",
    "#ride_data_df.count\n",
    "# 2376 rows 4 columns, city, date, fare, ride id\n",
    "\n",
    "#number of rows\n",
    "#data types\n",
    "\n",
    "#city_data_df.dtypes\n",
    "#city (object string), driver count(int 64), type (object string)\n",
    "#ride_data_df.dtypes\n",
    "#city (object string). date (object string), fare (float64), ride id (int64)\n",
    "\n",
    "#data readable?\n",
    "#city data OK\n",
    "#ride data OK\n"
   ]
  },
  {
   "cell_type": "code",
   "execution_count": 76,
   "id": "ccd80d1b",
   "metadata": {},
   "outputs": [],
   "source": [
    "### Project Goals\n",
    "# import and merge dataframes \n",
    "# create bubble chart to show average fare fs total number of rides with bubble size based on total number of drivers for each city type including urban, suburban, and rural\n",
    "# determine mean median and mode for total number of rides of each city type, average fare for each city type, and total number of drivers for each city type\n",
    "\n",
    "# create box and whisker plots to visualize: number of rides for each city type, fare for each city type, number of drivers for each city type\n",
    "\n",
    "# create a pie chart that visualizes percent of total fares, rides, and drivers for each city type.\n"
   ]
  },
  {
   "cell_type": "code",
   "execution_count": 81,
   "id": "5fb72427",
   "metadata": {},
   "outputs": [
    {
     "data": {
      "text/plain": [
       "18"
      ]
     },
     "execution_count": 81,
     "metadata": {},
     "output_type": "execute_result"
    }
   ],
   "source": [
    "# City data inspection:\n",
    "\n",
    "city_data_df.count()\n",
    "city_data_df.isnull().sum()\n",
    "city_data_df.dtypes\n",
    "city_data_df[\"type\"].unique()\n",
    "\n",
    "sum(city_data_df[\"type\"]==\"Urban\")\n",
    "# 66 Urban\n",
    "\n",
    "sum(city_data_df[\"type\"]==\"Suburban\")\n",
    "#36\n",
    "\n",
    "sum(city_data_df[\"type\"]==\"Rural\")\n",
    "#18\n"
   ]
  },
  {
   "cell_type": "code",
   "execution_count": 82,
   "id": "91deb185",
   "metadata": {},
   "outputs": [
    {
     "data": {
      "text/html": [
       "<div>\n",
       "<style scoped>\n",
       "    .dataframe tbody tr th:only-of-type {\n",
       "        vertical-align: middle;\n",
       "    }\n",
       "\n",
       "    .dataframe tbody tr th {\n",
       "        vertical-align: top;\n",
       "    }\n",
       "\n",
       "    .dataframe thead th {\n",
       "        text-align: right;\n",
       "    }\n",
       "</style>\n",
       "<table border=\"1\" class=\"dataframe\">\n",
       "  <thead>\n",
       "    <tr style=\"text-align: right;\">\n",
       "      <th></th>\n",
       "      <th>city</th>\n",
       "      <th>date</th>\n",
       "      <th>fare</th>\n",
       "      <th>ride_id</th>\n",
       "      <th>driver_count</th>\n",
       "      <th>type</th>\n",
       "    </tr>\n",
       "  </thead>\n",
       "  <tbody>\n",
       "    <tr>\n",
       "      <th>0</th>\n",
       "      <td>Lake Jonathanshire</td>\n",
       "      <td>2019-01-14 10:14:22</td>\n",
       "      <td>13.83</td>\n",
       "      <td>5739410935873</td>\n",
       "      <td>5</td>\n",
       "      <td>Urban</td>\n",
       "    </tr>\n",
       "    <tr>\n",
       "      <th>1</th>\n",
       "      <td>South Michelleport</td>\n",
       "      <td>2019-03-04 18:24:09</td>\n",
       "      <td>30.24</td>\n",
       "      <td>2343912425577</td>\n",
       "      <td>72</td>\n",
       "      <td>Urban</td>\n",
       "    </tr>\n",
       "    <tr>\n",
       "      <th>2</th>\n",
       "      <td>Port Samanthamouth</td>\n",
       "      <td>2019-02-24 04:29:00</td>\n",
       "      <td>33.44</td>\n",
       "      <td>2005065760003</td>\n",
       "      <td>57</td>\n",
       "      <td>Urban</td>\n",
       "    </tr>\n",
       "    <tr>\n",
       "      <th>3</th>\n",
       "      <td>Rodneyfort</td>\n",
       "      <td>2019-02-10 23:22:03</td>\n",
       "      <td>23.44</td>\n",
       "      <td>5149245426178</td>\n",
       "      <td>34</td>\n",
       "      <td>Urban</td>\n",
       "    </tr>\n",
       "    <tr>\n",
       "      <th>4</th>\n",
       "      <td>South Jack</td>\n",
       "      <td>2019-03-06 04:28:35</td>\n",
       "      <td>34.58</td>\n",
       "      <td>3908451377344</td>\n",
       "      <td>46</td>\n",
       "      <td>Urban</td>\n",
       "    </tr>\n",
       "    <tr>\n",
       "      <th>5</th>\n",
       "      <td>South Latoya</td>\n",
       "      <td>2019-03-11 12:26:48</td>\n",
       "      <td>9.52</td>\n",
       "      <td>1994999424437</td>\n",
       "      <td>10</td>\n",
       "      <td>Urban</td>\n",
       "    </tr>\n",
       "    <tr>\n",
       "      <th>6</th>\n",
       "      <td>New Paulville</td>\n",
       "      <td>2019-02-27 11:17:56</td>\n",
       "      <td>43.25</td>\n",
       "      <td>793208410091</td>\n",
       "      <td>44</td>\n",
       "      <td>Urban</td>\n",
       "    </tr>\n",
       "    <tr>\n",
       "      <th>7</th>\n",
       "      <td>Simpsonburgh</td>\n",
       "      <td>2019-04-26 00:43:24</td>\n",
       "      <td>35.98</td>\n",
       "      <td>111953927754</td>\n",
       "      <td>21</td>\n",
       "      <td>Urban</td>\n",
       "    </tr>\n",
       "    <tr>\n",
       "      <th>8</th>\n",
       "      <td>South Karenland</td>\n",
       "      <td>2019-01-08 03:28:48</td>\n",
       "      <td>35.09</td>\n",
       "      <td>7995623208694</td>\n",
       "      <td>4</td>\n",
       "      <td>Urban</td>\n",
       "    </tr>\n",
       "    <tr>\n",
       "      <th>9</th>\n",
       "      <td>North Jasmine</td>\n",
       "      <td>2019-03-09 06:26:29</td>\n",
       "      <td>42.81</td>\n",
       "      <td>5327642267789</td>\n",
       "      <td>33</td>\n",
       "      <td>Urban</td>\n",
       "    </tr>\n",
       "    <tr>\n",
       "      <th>10</th>\n",
       "      <td>New Kimberlyborough</td>\n",
       "      <td>2019-02-07 01:10:11</td>\n",
       "      <td>9.34</td>\n",
       "      <td>7992781920789</td>\n",
       "      <td>33</td>\n",
       "      <td>Urban</td>\n",
       "    </tr>\n",
       "    <tr>\n",
       "      <th>11</th>\n",
       "      <td>West Angela</td>\n",
       "      <td>2019-01-12 01:45:27</td>\n",
       "      <td>26.86</td>\n",
       "      <td>4820052223501</td>\n",
       "      <td>48</td>\n",
       "      <td>Urban</td>\n",
       "    </tr>\n",
       "    <tr>\n",
       "      <th>12</th>\n",
       "      <td>Rodneyfort</td>\n",
       "      <td>2019-03-02 18:03:20</td>\n",
       "      <td>44.26</td>\n",
       "      <td>2494064867705</td>\n",
       "      <td>34</td>\n",
       "      <td>Urban</td>\n",
       "    </tr>\n",
       "    <tr>\n",
       "      <th>13</th>\n",
       "      <td>West Angela</td>\n",
       "      <td>2019-01-10 12:17:31</td>\n",
       "      <td>12.74</td>\n",
       "      <td>2108723916092</td>\n",
       "      <td>48</td>\n",
       "      <td>Urban</td>\n",
       "    </tr>\n",
       "    <tr>\n",
       "      <th>14</th>\n",
       "      <td>Roberthaven</td>\n",
       "      <td>2019-05-04 14:48:56</td>\n",
       "      <td>25.66</td>\n",
       "      <td>1026197778354</td>\n",
       "      <td>47</td>\n",
       "      <td>Urban</td>\n",
       "    </tr>\n",
       "    <tr>\n",
       "      <th>15</th>\n",
       "      <td>North Jason</td>\n",
       "      <td>2019-03-28 22:28:44</td>\n",
       "      <td>9.19</td>\n",
       "      <td>7007022521141</td>\n",
       "      <td>6</td>\n",
       "      <td>Urban</td>\n",
       "    </tr>\n",
       "    <tr>\n",
       "      <th>16</th>\n",
       "      <td>Williamsview</td>\n",
       "      <td>2019-01-03 16:19:25</td>\n",
       "      <td>18.93</td>\n",
       "      <td>1979492913169</td>\n",
       "      <td>46</td>\n",
       "      <td>Urban</td>\n",
       "    </tr>\n",
       "    <tr>\n",
       "      <th>17</th>\n",
       "      <td>Leahton</td>\n",
       "      <td>2019-02-26 18:42:15</td>\n",
       "      <td>8.85</td>\n",
       "      <td>6966668662612</td>\n",
       "      <td>17</td>\n",
       "      <td>Urban</td>\n",
       "    </tr>\n",
       "    <tr>\n",
       "      <th>18</th>\n",
       "      <td>West Anthony</td>\n",
       "      <td>2019-03-06 02:27:01</td>\n",
       "      <td>10.02</td>\n",
       "      <td>9396763280782</td>\n",
       "      <td>70</td>\n",
       "      <td>Urban</td>\n",
       "    </tr>\n",
       "    <tr>\n",
       "      <th>19</th>\n",
       "      <td>New Kimberlyborough</td>\n",
       "      <td>2019-04-25 22:58:38</td>\n",
       "      <td>29.67</td>\n",
       "      <td>4823568522144</td>\n",
       "      <td>33</td>\n",
       "      <td>Urban</td>\n",
       "    </tr>\n",
       "  </tbody>\n",
       "</table>\n",
       "</div>"
      ],
      "text/plain": [
       "                   city                 date   fare        ride_id  \\\n",
       "0    Lake Jonathanshire  2019-01-14 10:14:22  13.83  5739410935873   \n",
       "1    South Michelleport  2019-03-04 18:24:09  30.24  2343912425577   \n",
       "2    Port Samanthamouth  2019-02-24 04:29:00  33.44  2005065760003   \n",
       "3            Rodneyfort  2019-02-10 23:22:03  23.44  5149245426178   \n",
       "4            South Jack  2019-03-06 04:28:35  34.58  3908451377344   \n",
       "5          South Latoya  2019-03-11 12:26:48   9.52  1994999424437   \n",
       "6         New Paulville  2019-02-27 11:17:56  43.25   793208410091   \n",
       "7          Simpsonburgh  2019-04-26 00:43:24  35.98   111953927754   \n",
       "8       South Karenland  2019-01-08 03:28:48  35.09  7995623208694   \n",
       "9         North Jasmine  2019-03-09 06:26:29  42.81  5327642267789   \n",
       "10  New Kimberlyborough  2019-02-07 01:10:11   9.34  7992781920789   \n",
       "11          West Angela  2019-01-12 01:45:27  26.86  4820052223501   \n",
       "12           Rodneyfort  2019-03-02 18:03:20  44.26  2494064867705   \n",
       "13          West Angela  2019-01-10 12:17:31  12.74  2108723916092   \n",
       "14          Roberthaven  2019-05-04 14:48:56  25.66  1026197778354   \n",
       "15          North Jason  2019-03-28 22:28:44   9.19  7007022521141   \n",
       "16         Williamsview  2019-01-03 16:19:25  18.93  1979492913169   \n",
       "17              Leahton  2019-02-26 18:42:15   8.85  6966668662612   \n",
       "18         West Anthony  2019-03-06 02:27:01  10.02  9396763280782   \n",
       "19  New Kimberlyborough  2019-04-25 22:58:38  29.67  4823568522144   \n",
       "\n",
       "    driver_count   type  \n",
       "0              5  Urban  \n",
       "1             72  Urban  \n",
       "2             57  Urban  \n",
       "3             34  Urban  \n",
       "4             46  Urban  \n",
       "5             10  Urban  \n",
       "6             44  Urban  \n",
       "7             21  Urban  \n",
       "8              4  Urban  \n",
       "9             33  Urban  \n",
       "10            33  Urban  \n",
       "11            48  Urban  \n",
       "12            34  Urban  \n",
       "13            48  Urban  \n",
       "14            47  Urban  \n",
       "15             6  Urban  \n",
       "16            46  Urban  \n",
       "17            17  Urban  \n",
       "18            70  Urban  \n",
       "19            33  Urban  "
      ]
     },
     "execution_count": 82,
     "metadata": {},
     "output_type": "execute_result"
    }
   ],
   "source": [
    "# City data inspection:\n",
    "\n",
    "city_data_df.count()\n",
    "city_data_df.isnull().sum()\n",
    "city_data_df.dtypes\n",
    "city_data_df[\"type\"].unique()\n",
    "\n",
    "# merge dataframe by city left merge ride data is A city data is B\n",
    "\n",
    "complete_pyber_df =pd.merge(ride_data_df, city_data_df, on=\"city\", how=\"left\")\n",
    "complete_pyber_df.head(20)"
   ]
  },
  {
   "cell_type": "code",
   "execution_count": 83,
   "id": "a58d845d",
   "metadata": {},
   "outputs": [
    {
     "data": {
      "text/html": [
       "<div>\n",
       "<style scoped>\n",
       "    .dataframe tbody tr th:only-of-type {\n",
       "        vertical-align: middle;\n",
       "    }\n",
       "\n",
       "    .dataframe tbody tr th {\n",
       "        vertical-align: top;\n",
       "    }\n",
       "\n",
       "    .dataframe thead th {\n",
       "        text-align: right;\n",
       "    }\n",
       "</style>\n",
       "<table border=\"1\" class=\"dataframe\">\n",
       "  <thead>\n",
       "    <tr style=\"text-align: right;\">\n",
       "      <th></th>\n",
       "      <th>city</th>\n",
       "      <th>date</th>\n",
       "      <th>fare</th>\n",
       "      <th>ride_id</th>\n",
       "      <th>driver_count</th>\n",
       "      <th>type</th>\n",
       "    </tr>\n",
       "  </thead>\n",
       "  <tbody>\n",
       "    <tr>\n",
       "      <th>2250</th>\n",
       "      <td>Randallchester</td>\n",
       "      <td>2019-04-13 11:13:31</td>\n",
       "      <td>43.22</td>\n",
       "      <td>1076079536213</td>\n",
       "      <td>9</td>\n",
       "      <td>Rural</td>\n",
       "    </tr>\n",
       "    <tr>\n",
       "      <th>2251</th>\n",
       "      <td>North Holly</td>\n",
       "      <td>2019-02-02 14:54:00</td>\n",
       "      <td>12.42</td>\n",
       "      <td>1985256326182</td>\n",
       "      <td>8</td>\n",
       "      <td>Rural</td>\n",
       "    </tr>\n",
       "    <tr>\n",
       "      <th>2252</th>\n",
       "      <td>Michaelberg</td>\n",
       "      <td>2019-03-27 18:27:34</td>\n",
       "      <td>54.85</td>\n",
       "      <td>4421836952718</td>\n",
       "      <td>6</td>\n",
       "      <td>Rural</td>\n",
       "    </tr>\n",
       "    <tr>\n",
       "      <th>2253</th>\n",
       "      <td>Lake Latoyabury</td>\n",
       "      <td>2019-02-23 21:12:24</td>\n",
       "      <td>47.90</td>\n",
       "      <td>3269652929887</td>\n",
       "      <td>2</td>\n",
       "      <td>Rural</td>\n",
       "    </tr>\n",
       "    <tr>\n",
       "      <th>2254</th>\n",
       "      <td>Lake Latoyabury</td>\n",
       "      <td>2019-05-06 08:57:56</td>\n",
       "      <td>51.80</td>\n",
       "      <td>4018025271936</td>\n",
       "      <td>2</td>\n",
       "      <td>Rural</td>\n",
       "    </tr>\n",
       "  </tbody>\n",
       "</table>\n",
       "</div>"
      ],
      "text/plain": [
       "                 city                 date   fare        ride_id  \\\n",
       "2250   Randallchester  2019-04-13 11:13:31  43.22  1076079536213   \n",
       "2251      North Holly  2019-02-02 14:54:00  12.42  1985256326182   \n",
       "2252      Michaelberg  2019-03-27 18:27:34  54.85  4421836952718   \n",
       "2253  Lake Latoyabury  2019-02-23 21:12:24  47.90  3269652929887   \n",
       "2254  Lake Latoyabury  2019-05-06 08:57:56  51.80  4018025271936   \n",
       "\n",
       "      driver_count   type  \n",
       "2250             9  Rural  \n",
       "2251             8  Rural  \n",
       "2252             6  Rural  \n",
       "2253             2  Rural  \n",
       "2254             2  Rural  "
      ]
     },
     "execution_count": 83,
     "metadata": {},
     "output_type": "execute_result"
    }
   ],
   "source": [
    "### create bubble chart to show average fare fs total number of rides with bubble size based on total number of drivers for each city type including urban, suburban, and rural\n",
    "\n",
    "#Separate dataframes into multiple data frames by city type\n",
    "\n",
    "urban_city_df = complete_pyber_df[complete_pyber_df[\"type\"]==\"Urban\"]\n",
    "suburban_city_df = complete_pyber_df[complete_pyber_df[\"type\"]==\"Suburban\"]\n",
    "rural_city_df = complete_pyber_df[complete_pyber_df[\"type\"]==\"Rural\"]\n",
    "\n",
    "rural_city_df.head()\n",
    "\n"
   ]
  },
  {
   "cell_type": "code",
   "execution_count": 84,
   "id": "ba19e58e",
   "metadata": {},
   "outputs": [
    {
     "data": {
      "text/plain": [
       "city\n",
       "Amandaburgh            18\n",
       "Barajasview            22\n",
       "Carriemouth            27\n",
       "Christopherfurt        27\n",
       "Deanville              19\n",
       "                       ..\n",
       "West Patrickchester    16\n",
       "West Robert            31\n",
       "West Samuelburgh       25\n",
       "Williamsstad           23\n",
       "Williamsview           20\n",
       "Name: ride_id, Length: 66, dtype: int64"
      ]
     },
     "execution_count": 84,
     "metadata": {},
     "output_type": "execute_result"
    }
   ],
   "source": [
    "# determine the amount of rides in each city for each city type.  Groupby city and count unique ride id\n",
    "# creates a dataframe of the type of city listing the city and the count of unique rides\n",
    "\n",
    "urban_ride_count = urban_city_df.groupby([\"city\"]).count()[\"ride_id\"]\n",
    "suburban_ride_count = suburban_city_df.groupby([\"city\"]).count()[\"ride_id\"]\n",
    "rural_ride_count = rural_city_df.groupby([\"city\"]).count()[\"ride_id\"]\n",
    "\n",
    "urban_ride_count"
   ]
  },
  {
   "cell_type": "code",
   "execution_count": 109,
   "id": "c0ca2ec5",
   "metadata": {},
   "outputs": [
    {
     "data": {
      "text/plain": [
       "count    66.000000\n",
       "mean     24.499122\n",
       "std       2.190653\n",
       "min      20.093158\n",
       "25%      22.799102\n",
       "50%      24.476732\n",
       "75%      25.965357\n",
       "max      28.993750\n",
       "Name: fare, dtype: float64"
      ]
     },
     "execution_count": 109,
     "metadata": {},
     "output_type": "execute_result"
    }
   ],
   "source": [
    "#average fare for each city.  group each city type data by city mean fare\n",
    "# creates a dataframe of the type of city listing city and the average fare\n",
    "\n",
    "urban_avg_fare = urban_city_df.groupby([\"city\"]).mean()[\"fare\"]\n",
    "suburban_avg_fare = suburban_city_df.groupby([\"city\"]).mean()[\"fare\"]\n",
    "rural_avg_fare = rural_city_df.groupby([\"city\"]).mean()[\"fare\"]"
   ]
  },
  {
   "cell_type": "code",
   "execution_count": 86,
   "id": "28f0eb44",
   "metadata": {},
   "outputs": [],
   "source": [
    "#average driver count for each city type grouped by city\n",
    "# Its technically the same, don't really need to average it, every city has a fixed driver count so the average of x number of N drivers is still N?\n",
    "\n",
    "urban_avg_driver =urban_city_df.groupby([\"city\"]).mean()[\"driver_count\"]\n",
    "suburban_avg_driver =suburban_city_df.groupby([\"city\"]).mean()[\"driver_count\"]\n",
    "rural_avg_driver =rural_city_df.groupby([\"city\"]).mean()[\"driver_count\"]"
   ]
  },
  {
   "cell_type": "code",
   "execution_count": 87,
   "id": "d86f8370",
   "metadata": {},
   "outputs": [
    {
     "data": {
      "image/png": "[encoded data removed]",
      "text/plain": [
       "<Figure size 432x288 with 1 Axes>"
      ]
     },
     "metadata": {
      "needs_background": "light"
     },
     "output_type": "display_data"
    }
   ],
   "source": [
    "# create scatter plot of number of rides against average fare scalled dots by driver count\n",
    "\n",
    "#urban plot\n",
    "\n",
    "plt.scatter(urban_ride_count, urban_avg_fare, c= \"coral\", edgecolor = \"black\", linewidths=1, alpha = 0.8, label = \"Urban\", s=urban_avg_driver)\n",
    "plt.scatter(suburban_ride_count, suburban_avg_fare, c=\"skyblue\", edgecolor = \"black\", linewidths=1, alpha = 0.8, label = \"Suburban\", s=suburban_avg_driver)\n",
    "plt.scatter(rural_ride_count, rural_avg_fare, c=\"gold\", edgecolor = \"black\", linewidth=1, alpha = 0.8, label = \"Rural\", s=rural_avg_driver)\n",
    "\n",
    "plt.title(\"PyBer Ride Sharing Data (2019)\", fontsize = 20)\n",
    "plt.ylabel(\"Average Fare ($USD)\", fontsize = 12)\n",
    "plt.xlabel(\"Total Number of Rides (Per City)\", fontsize =12)\n",
    "\n",
    "plt.grid(True)\n",
    "\n",
    "# Set legend parameters\n",
    "pyber_legend_bubble = plt.legend(fontsize=12, mode=\"Expanded\", scatterpoints = 1, loc = \"best\", title = \"City Types\")\n",
    "pyber_legend_bubble.legendHandles[0]._sizes = [75]\n",
    "pyber_legend_bubble.legendHandles[1]._sizes = [75]\n",
    "pyber_legend_bubble.legendHandles[2]._sizes = [75]\n",
    "pyber_legend_bubble.get_title().set_fontsize(12)\n",
    "\n",
    "#figure text\n",
    "plt.text(42, 35, \"Note: Circle size correlates with driver count per city.\", fontsize=\"12\")\n",
    "\n",
    "# Save figure to file\n",
    "plt.savefig(\"Analysis/bubble_plot.png\")\n",
    "\n",
    "plt.show()\n"
   ]
  },
  {
   "cell_type": "code",
   "execution_count": 88,
   "id": "b15e04ae",
   "metadata": {},
   "outputs": [
    {
     "name": "stdout",
     "output_type": "stream",
     "text": [
      "count    66.000000\n",
      "mean     24.621212\n",
      "std       5.408726\n",
      "min      12.000000\n",
      "25%      21.000000\n",
      "50%      24.000000\n",
      "75%      28.000000\n",
      "max      39.000000\n",
      "Name: ride_id, dtype: float64\n",
      "count    36.000000\n",
      "mean     17.361111\n",
      "std       4.323707\n",
      "min       9.000000\n",
      "25%      14.000000\n",
      "50%      17.000000\n",
      "75%      19.250000\n",
      "max      27.000000\n",
      "Name: ride_id, dtype: float64\n",
      "count    18.000000\n",
      "mean      6.944444\n",
      "std       2.508157\n",
      "min       3.000000\n",
      "25%       5.250000\n",
      "50%       6.000000\n",
      "75%       8.750000\n",
      "max      12.000000\n",
      "Name: ride_id, dtype: float64\n"
     ]
    }
   ],
   "source": [
    "### determine mean median and mode for total number of rides of each city type, average fare for each city type, and total number of drivers for each city type\n",
    "\n",
    "# using .describe() basic statistics\n",
    "\n",
    "print(urban_ride_count.describe())\n",
    "print(suburban_ride_count.describe())\n",
    "print(rural_ride_count.describe())\n"
   ]
  },
  {
   "cell_type": "code",
   "execution_count": 89,
   "id": "87ef4579",
   "metadata": {},
   "outputs": [
    {
     "data": {
      "text/plain": [
       "0    17\n",
       "dtype: int64"
      ]
     },
     "execution_count": 89,
     "metadata": {},
     "output_type": "execute_result"
    }
   ],
   "source": [
    "#Testing mean median mode rounding feature\n",
    "round(urban_ride_count.median(), 2)\n",
    "suburban_ride_count.mode()"
   ]
  },
  {
   "cell_type": "code",
   "execution_count": 90,
   "id": "ec078e69",
   "metadata": {},
   "outputs": [
    {
     "name": "stdout",
     "output_type": "stream",
     "text": [
      "The mean for the ride counts for urban trips is 24.62.\n",
      "The median for the ride counts for urban trips is 24.0.\n",
      "The mode for the ride counts for urban trips is ModeResult(mode=array([22], dtype=int64), count=array([7])).\n",
      "The mean for the ride counts for urban trips is 17.36.\n",
      "The median for the ride counts for urban trips is 17.0.\n",
      "The mode for the ride counts for urban trips is ModeResult(mode=array([17], dtype=int64), count=array([7])).\n",
      "The mean for the ride counts for urban trips is 6.94.\n",
      "The median for the ride counts for urban trips is 6.0.\n",
      "The mode for the ride counts for urban trips is ModeResult(mode=array([6], dtype=int64), count=array([5])).\n"
     ]
    }
   ],
   "source": [
    "# Can also calculate mean median and SciPy mode() and NumPy \n",
    "\n",
    "# need to import modules import numpy as np and scipy (import scipy.stats as sts)\n",
    "# numpy (mean/median) sts (mode) for measures of central tendancies\n",
    "\n",
    "# numpy/scipy urban\n",
    "mean_urban_ride_count = np.mean(urban_ride_count)\n",
    "print(f\"The mean for the ride counts for urban trips is {mean_urban_ride_count:.2f}.\")\n",
    "\n",
    "median_urban_ride_count = np.median(urban_ride_count)\n",
    "print(f\"The median for the ride counts for urban trips is {median_urban_ride_count}.\")\n",
    "\n",
    "mode_urban_ride_count = sts.mode(urban_ride_count)\n",
    "print(f\"The mode for the ride counts for urban trips is {mode_urban_ride_count}.\")\n",
    "\n",
    "# numpy/scipy suburban\n",
    "mean_suburban_ride_count = np.mean(suburban_ride_count)\n",
    "print(f\"The mean for the ride counts for urban trips is {mean_suburban_ride_count:.2f}.\")\n",
    "\n",
    "median_suburban_ride_count = np.median(suburban_ride_count)\n",
    "print(f\"The median for the ride counts for urban trips is {median_suburban_ride_count}.\")\n",
    "\n",
    "mode_suburban_ride_count = sts.mode(suburban_ride_count)\n",
    "print(f\"The mode for the ride counts for urban trips is {mode_suburban_ride_count}.\")\n",
    "\n",
    "# numpy/scipy rural\n",
    "mean_rural_ride_count = np.mean(rural_ride_count)\n",
    "print(f\"The mean for the ride counts for urban trips is {mean_rural_ride_count:.2f}.\")\n",
    "\n",
    "median_rural_ride_count = np.median(rural_ride_count)\n",
    "print(f\"The median for the ride counts for urban trips is {median_rural_ride_count}.\")\n",
    "\n",
    "mode_rural_ride_count = sts.mode(rural_ride_count)\n",
    "print(f\"The mode for the ride counts for urban trips is {mode_rural_ride_count}.\")"
   ]
  },
  {
   "cell_type": "code",
   "execution_count": 95,
   "id": "77625693",
   "metadata": {},
   "outputs": [
    {
     "name": "stdout",
     "output_type": "stream",
     "text": [
      "The mean fare price for urban trips is $24.53.\n",
      "The median fare price for urban trips is $24.64.\n",
      "The mode fare price for urban trips is ModeResult(mode=array([22.86]), count=array([5])).\n",
      "The mean fare price for suburban trips is $30.97.\n",
      "The median fare price for suburban trips is $30.75.\n",
      "The mode fare price for suburban trips is ModeResult(mode=array([17.99]), count=array([3])).\n",
      "The mean fare price for rural trips is $34.62.\n",
      "The median fare price for rural trips is $37.05.\n",
      "The mode fare price for rural trips is ModeResult(mode=array([37.05]), count=array([2])).\n"
     ]
    }
   ],
   "source": [
    "# calculate measures of central tendancies for the fare of each city\n",
    "# create a variable that contains only the fare for all cities of a given city type, calculate measures of central tendancy, then merge into a dataframe\n",
    "\n",
    "urban_fares = urban_city_df[\"fare\"]\n",
    "urban_fares_mean = np.mean(urban_fares)\n",
    "urban_fares_median = np.median(urban_fares)\n",
    "urban_fares_mode = sts.mode(urban_fares)\n",
    "\n",
    "print(f\"The mean fare price for urban trips is ${urban_fares_mean:.2f}.\")\n",
    "print(f\"The median fare price for urban trips is ${urban_fares_median:.2f}.\")\n",
    "print(f\"The mode fare price for urban trips is {urban_fares_mode}.\")\n",
    "\n",
    "suburban_fares = suburban_city_df[\"fare\"]\n",
    "suburban_fares_mean = np.mean(suburban_fares)\n",
    "suburban_fares_median = np.median(suburban_fares)\n",
    "suburban_fares_mode = sts.mode(suburban_fares)\n",
    "\n",
    "print(f\"The mean fare price for suburban trips is ${suburban_fares_mean:.2f}.\")\n",
    "print(f\"The median fare price for suburban trips is ${suburban_fares_median:.2f}.\")\n",
    "print(f\"The mode fare price for suburban trips is {suburban_fares_mode}.\")\n",
    "\n",
    "rural_fares = rural_city_df[\"fare\"]\n",
    "rural_fares_mean = np.mean(rural_fares)\n",
    "rural_fares_median = np.median(rural_fares)\n",
    "rural_fares_mode = sts.mode(rural_fares)\n",
    "\n",
    "print(f\"The mean fare price for rural trips is ${rural_fares_mean:.2f}.\")\n",
    "print(f\"The median fare price for rural trips is ${rural_fares_median:.2f}.\")\n",
    "print(f\"The mode fare price for rural trips is {rural_fares_mode}.\")"
   ]
  },
  {
   "cell_type": "code",
   "execution_count": 133,
   "id": "9f3c8ec8",
   "metadata": {},
   "outputs": [
    {
     "name": "stdout",
     "output_type": "stream",
     "text": [
      "The mean drivers for urban trips is 37.\n",
      "The median drivers for urban trips is 37.\n",
      "The mode drivers for urban trips is ModeResult(mode=array([39], dtype=int64), count=array([86])).\n",
      "The mean drivers for suburban trips is 14.\n",
      "The median drivers for suburban trips is 16.\n",
      "The mode drivers for suburban trips is ModeResult(mode=array([20], dtype=int64), count=array([79])).\n",
      "The mean drivers for rural trips is 4.\n",
      "The median drivers for rural trips is 4.\n",
      "The mode drivers for rural trips is ModeResult(mode=array([1], dtype=int64), count=array([32])).\n"
     ]
    }
   ],
   "source": [
    "# calculate measures of central tendancies for the number of drivers of each city\n",
    "# create a variable that contains only drivers for all cities of a given city type, calculate measures of central tendancy, then merge into a dataframe\n",
    "\n",
    "urban_drivers = urban_city_df[\"driver_count\"]\n",
    "urban_drivers_mean = np.mean(urban_drivers)\n",
    "urban_drivers_median = np.median(urban_drivers)\n",
    "urban_drivers_mode = sts.mode(urban_drivers)\n",
    "\n",
    "print(f\"The mean drivers for urban trips is {urban_drivers_mean:.0f}.\")\n",
    "print(f\"The median drivers for urban trips is {urban_drivers_median:.0f}.\")\n",
    "print(f\"The mode drivers for urban trips is {urban_drivers_mode}.\")\n",
    "\n",
    "suburban_drivers = suburban_city_df[\"driver_count\"]\n",
    "suburban_drivers_mean = np.mean(suburban_drivers)\n",
    "suburban_drivers_median = np.median(suburban_drivers)\n",
    "suburban_drivers_mode = sts.mode(suburban_drivers)\n",
    "\n",
    "print(f\"The mean drivers for suburban trips is {suburban_drivers_mean:.0f}.\")\n",
    "print(f\"The median drivers for suburban trips is {suburban_drivers_median:.0f}.\")\n",
    "print(f\"The mode drivers for suburban trips is {suburban_drivers_mode}.\")\n",
    "\n",
    "rural_drivers = rural_city_df[\"driver_count\"]\n",
    "rural_drivers_mean = np.mean(rural_drivers)\n",
    "rural_drivers_median = np.median(rural_drivers)\n",
    "rural_drivers_mode = sts.mode(rural_drivers)\n",
    "\n",
    "print(f\"The mean drivers for rural trips is {rural_drivers_mean:.0f}.\")\n",
    "print(f\"The median drivers for rural trips is {rural_drivers_median:.0f}.\")\n",
    "print(f\"The mode drivers for rural trips is {rural_drivers_mode}.\")"
   ]
  },
  {
   "cell_type": "code",
   "execution_count": 134,
   "id": "54d66679",
   "metadata": {},
   "outputs": [
    {
     "data": {
      "image/png": "[encoded data removed]",
      "text/plain": [
       "<Figure size 720x432 with 1 Axes>"
      ]
     },
     "metadata": {
      "needs_background": "light"
     },
     "output_type": "display_data"
    },
    {
     "name": "stdout",
     "output_type": "stream",
     "text": [
      "West Angela has the highest rider count, and is an outlier.\n"
     ]
    }
   ],
   "source": [
    "# create box and whisker plots to visualize: number of rides for each city type, fare for each city type, number of drivers for each city type\n",
    "\n",
    "x_labels = [\"Urban\", \"Suburban\",\"Rural\"]\n",
    "ride_count_data = [urban_ride_count, suburban_ride_count, rural_ride_count]\n",
    "fig, ax = plt.subplots(figsize=(10, 6))\n",
    "ax.set_title('Ride Count Data (2019)',fontsize=20)\n",
    "ax.set_ylabel('Number of Rides',fontsize=14)\n",
    "ax.set_xlabel(\"City Types\",fontsize=14)\n",
    "ax.boxplot(ride_count_data, labels=x_labels)\n",
    "ax.set_yticks(np.arange(0, 45, step=3.0))\n",
    "ax.grid()\n",
    "# Save the figure.\n",
    "plt.savefig(\"analysis/ride_count_box.png\")\n",
    "plt.show()\n",
    "\n",
    "# one outlier in urban data was detected. Determine the data points values\n",
    "# create a single row data frame to pull data from urban ride count dataframe\n",
    "\n",
    "urban_outlier = urban_ride_count[urban_ride_count == 39].index[0]\n",
    "print(f\"{urban_outlier} has the highest rider count, and is an outlier.\")"
   ]
  },
  {
   "cell_type": "code",
   "execution_count": 135,
   "id": "f1579edb",
   "metadata": {},
   "outputs": [
    {
     "data": {
      "image/png": "[encoded data removed]",
      "text/plain": [
       "<Figure size 720x432 with 1 Axes>"
      ]
     },
     "metadata": {
      "needs_background": "light"
     },
     "output_type": "display_data"
    }
   ],
   "source": [
    "# Create a box-and-whisker plot for the urban fare data.\n",
    "\n",
    "x_labels = [\"Urban\", \"Suburban\", \"Rural\"]\n",
    "fare_data = [urban_fares, suburban_fares, rural_fares]\n",
    "fig, ax = plt.subplots(figsize=(10,6))\n",
    "ax.boxplot(fare_data, labels=x_labels)\n",
    "\n",
    "# Add the title, y-axis label and grid.\n",
    "ax.set_title('Ride Fare Data (2019)', fontsize=20)\n",
    "ax.set_ylabel('Fare($USD)',fontsize=14)\n",
    "ax.set_yticks(np.arange(0, 60, step=5.0))\n",
    "ax.grid()\n",
    "\n",
    "plt.savefig(\"analysis/fare_box.png\")\n",
    "plt.show()\n"
   ]
  },
  {
   "cell_type": "code",
   "execution_count": 136,
   "id": "a33514df",
   "metadata": {},
   "outputs": [
    {
     "data": {
      "image/png": "[encoded data removed]",
      "text/plain": [
       "<Figure size 720x432 with 1 Axes>"
      ]
     },
     "metadata": {
      "needs_background": "light"
     },
     "output_type": "display_data"
    }
   ],
   "source": [
    "# Create a box-and-whisker plot for the urban fare data.\n",
    "\n",
    "x_labels = [\"Urban\", \"Suburban\", \"Rural\"]\n",
    "fare_data = [urban_drivers, suburban_drivers, rural_drivers]\n",
    "fig, ax = plt.subplots(figsize=(10,6))\n",
    "ax.boxplot(fare_data, labels=x_labels)\n",
    "\n",
    "# Add the title, y-axis label and grid.\n",
    "ax.set_title('Driver Count Data (2019)', fontsize=20)\n",
    "ax.set_ylabel('Number of Drivers',fontsize=14)\n",
    "ax.set_yticks(np.arange(0, 75, step=5.0))\n",
    "ax.grid()\n",
    "\n",
    "plt.savefig(\"analysis/driver_count_box.png\")\n",
    "plt.show()\n"
   ]
  },
  {
   "cell_type": "code",
   "execution_count": 151,
   "id": "4efabc38",
   "metadata": {},
   "outputs": [
    {
     "data": {
      "image/png": "[encoded data removed]",
      "text/plain": [
       "<Figure size 432x288 with 1 Axes>"
      ]
     },
     "metadata": {},
     "output_type": "display_data"
    }
   ],
   "source": [
    "### create a pie chart that visualizes percent of total fares, rides, and drivers for each city type.\n",
    "\n",
    "# Need to get total fares for each city type\n",
    "# Need to get total for all fares \n",
    "# Need to calculate to calculate the percentage (can by done by plt.pie as well)\n",
    "\n",
    "# one shot determine total fares for each city from summary data using groupby\n",
    "pyber_fare_sum = complete_pyber_df.groupby([\"type\"]).sum()[\"fare\"]\n",
    "pyber_fare_sum\n",
    "\n",
    "# determine total fares across pyber\n",
    "total_pyber_fare = complete_pyber_df.sum()[\"fare\"]\n",
    "total_pyber_fare\n",
    "\n",
    "#determine percentages\n",
    "pyber_fare_type_percent = 100 * pyber_fare_sum/total_pyber_fare\n",
    "pyber_fare_type_percent\n",
    "\n",
    "#generate pie chart\n",
    "plt.pie(pyber_fare_type_percent,\n",
    "    labels=[\"Rural\", \"Suburban\", \"Urban\"],\n",
    "    colors=[\"gold\", \"lightskyblue\", \"lightcoral\"],\n",
    "    explode=[0, 0, 0.1],\n",
    "    autopct='%1.1f%%',\n",
    "    shadow=True, startangle=150)\n",
    "plt.title(\"% of Total Fares by City Type\")\n",
    "\n",
    "plt.savefig(\"analysis/fare_percent_pie.png\")\n",
    "\n",
    "# Show Figure\n",
    "plt.show()"
   ]
  },
  {
   "cell_type": "code",
   "execution_count": 153,
   "id": "7acf805a",
   "metadata": {},
   "outputs": [
    {
     "data": {
      "image/png": "[encoded data removed]",
      "text/plain": [
       "<Figure size 432x288 with 1 Axes>"
      ]
     },
     "metadata": {},
     "output_type": "display_data"
    }
   ],
   "source": [
    "#refactor above code for rides percentage\n",
    "\n",
    "# one shot determine total rides for each city from summary data using groupby\n",
    "pyber_ride_count = complete_pyber_df.groupby([\"type\"]).count()[\"ride_id\"]\n",
    "pyber_ride_count\n",
    "\n",
    "# determine total rides across pyber\n",
    "total_pyber_rides = complete_pyber_df[\"ride_id\"].count()\n",
    "total_pyber_rides\n",
    "\n",
    "#determine percentages\n",
    "pyber_ride_type_percent = 100 * pyber_ride_count/total_pyber_rides\n",
    "pyber_ride_type_percent\n",
    "\n",
    "#generate pie chart\n",
    "plt.pie(pyber_ride_type_percent,\n",
    "    labels=[\"Rural\", \"Suburban\", \"Urban\"],\n",
    "    colors=[\"gold\", \"lightskyblue\", \"lightcoral\"],\n",
    "    explode=[0, 0, 0.1],\n",
    "    autopct='%1.1f%%',\n",
    "    shadow=True, startangle=150)\n",
    "plt.title(\"% of Total Rides by City Type\")\n",
    "\n",
    "plt.savefig(\"analysis/ride_count_percent_pie.png\")\n",
    "\n",
    "# Show Figure\n",
    "plt.show()\n"
   ]
  },
  {
   "cell_type": "code",
   "execution_count": 157,
   "id": "ac4114ae",
   "metadata": {},
   "outputs": [
    {
     "data": {
      "image/png": "[encoded data removed]",
      "text/plain": [
       "<Figure size 432x288 with 1 Axes>"
      ]
     },
     "metadata": {},
     "output_type": "display_data"
    }
   ],
   "source": [
    "#refactor above code for total drivers\n",
    "\n",
    "# one shot determine total drivers for each city from summary data using groupby\n",
    "pyber_driver_count = city_data_df.groupby([\"type\"]).sum()[\"driver_count\"]\n",
    "pyber_driver_count\n",
    "\n",
    "# determine total drivers across pyber\n",
    "total_pyber_driver = city_data_df[\"driver_count\"].sum()\n",
    "total_pyber_driver\n",
    "\n",
    "#determine percentages\n",
    "pyber_driver_type_percent = 100 * pyber_driver_count/total_pyber_driver\n",
    "pyber_driver_type_percent\n",
    "\n",
    "#generate pie chart\n",
    "plt.pie(pyber_driver_type_percent,\n",
    "    labels=[\"Rural\", \"Suburban\", \"Urban\"],\n",
    "    colors=[\"gold\", \"lightskyblue\", \"lightcoral\"],\n",
    "    explode=[0, 0, 0.1],\n",
    "    autopct='%1.1f%%',\n",
    "    shadow=True, startangle=150)\n",
    "plt.title(\"% of Total Drivers by City Type\")\n",
    "\n",
    "plt.savefig(\"analysis/driver_count_percent_pie.png\")\n",
    "\n",
    "# Show Figure\n",
    "plt.show()"
   ]
  },
  {
   "cell_type": "code",
   "execution_count": null,
   "id": "0a351c27",
   "metadata": {},
   "outputs": [],
   "source": []
  }
 ],
 "metadata": {
  "kernelspec": {
   "display_name": "PythonData",
   "language": "python",
   "name": "pythondata"
  },
  "language_info": {
   "codemirror_mode": {
    "name": "ipython",
    "version": 3
   },
   "file_extension": ".py",
   "mimetype": "text/x-python",
   "name": "python",
   "nbconvert_exporter": "python",
   "pygments_lexer": "ipython3",
   "version": "3.7.13"
  }
 },
 "nbformat": 4,
 "nbformat_minor": 5
}
